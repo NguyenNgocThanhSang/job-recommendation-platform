{
 "cells": [
  {
   "cell_type": "markdown",
   "metadata": {},
   "source": [
    "# Preprocess data"
   ]
  },
  {
   "cell_type": "markdown",
   "metadata": {},
   "source": [
    "---\n",
    "## Import"
   ]
  },
  {
   "cell_type": "code",
   "execution_count": 15,
   "metadata": {},
   "outputs": [],
   "source": [
    "import pandas as pd\n",
    "import re\n",
    "import numpy as np\n",
    "from datetime import datetime\n",
    "import time\n",
    "import datetime\n",
    "from collections import Counter"
   ]
  },
  {
   "cell_type": "markdown",
   "metadata": {},
   "source": [
    "---"
   ]
  },
  {
   "cell_type": "markdown",
   "metadata": {},
   "source": [
    "## CareerViet"
   ]
  },
  {
   "cell_type": "code",
   "execution_count": 16,
   "metadata": {},
   "outputs": [
    {
     "data": {
      "text/html": [
       "<div>\n",
       "<style scoped>\n",
       "    .dataframe tbody tr th:only-of-type {\n",
       "        vertical-align: middle;\n",
       "    }\n",
       "\n",
       "    .dataframe tbody tr th {\n",
       "        vertical-align: top;\n",
       "    }\n",
       "\n",
       "    .dataframe thead th {\n",
       "        text-align: right;\n",
       "    }\n",
       "</style>\n",
       "<table border=\"1\" class=\"dataframe\">\n",
       "  <thead>\n",
       "    <tr style=\"text-align: right;\">\n",
       "      <th></th>\n",
       "      <th>job_title</th>\n",
       "      <th>job_url</th>\n",
       "      <th>company_name</th>\n",
       "      <th>company_url</th>\n",
       "      <th>company_img_url</th>\n",
       "      <th>location</th>\n",
       "      <th>post_date</th>\n",
       "      <th>due_date</th>\n",
       "      <th>fields</th>\n",
       "      <th>salary</th>\n",
       "      <th>experience</th>\n",
       "      <th>position</th>\n",
       "      <th>benefits</th>\n",
       "      <th>job_description</th>\n",
       "      <th>requirements</th>\n",
       "    </tr>\n",
       "  </thead>\n",
       "  <tbody>\n",
       "    <tr>\n",
       "      <th>0</th>\n",
       "      <td>Nhân viên Kho - cấp bậc tổ trưởng (làm ca)</td>\n",
       "      <td>https://careerviet.vn/vi/tim-viec-lam/nhan-vie...</td>\n",
       "      <td>CÔNG TY TNHH LEGO MANUFACTURING VIỆT NAM</td>\n",
       "      <td>https://careerviet.vn/vi/nha-tuyen-dung/cong-t...</td>\n",
       "      <td>https://images.careerviet.vn/employer_folders/...</td>\n",
       "      <td>[Bình Dương]</td>\n",
       "      <td>13/11/2024</td>\n",
       "      <td>31/12/2024</td>\n",
       "      <td>[Vận chuyển / Giao nhận /  Kho vận]</td>\n",
       "      <td>Cạnh tranh</td>\n",
       "      <td>1 - 5 Năm</td>\n",
       "      <td>Nhân viên</td>\n",
       "      <td>[ Laptop,  Chế độ bảo hiểm,  Phụ cấp,  Xe đưa ...</td>\n",
       "      <td>\\nMô tả Công việc\\nVị trí Nhân viên K...</td>\n",
       "      <td>\\nYêu Cầu Công Việc\\nYêu cầu công vi...</td>\n",
       "    </tr>\n",
       "    <tr>\n",
       "      <th>1</th>\n",
       "      <td>Nhân viên Kho Lái Xe Nâng (Làm ca)</td>\n",
       "      <td>https://careerviet.vn/vi/tim-viec-lam/nhan-vie...</td>\n",
       "      <td>CÔNG TY TNHH LEGO MANUFACTURING VIỆT NAM</td>\n",
       "      <td>https://careerviet.vn/vi/nha-tuyen-dung/cong-t...</td>\n",
       "      <td>https://images.careerviet.vn/employer_folders/...</td>\n",
       "      <td>[Bình Dương]</td>\n",
       "      <td>13/11/2024</td>\n",
       "      <td>31/12/2024</td>\n",
       "      <td>[Vận chuyển / Giao nhận /  Kho vận]</td>\n",
       "      <td>Cạnh tranh</td>\n",
       "      <td>1 - 5 Năm</td>\n",
       "      <td>Nhân viên</td>\n",
       "      <td>[ Laptop,  Chế độ bảo hiểm,  Phụ cấp,  Xe đưa ...</td>\n",
       "      <td>\\nMô tả Công việc\\nVị trí Nhân viên K...</td>\n",
       "      <td>\\nYêu Cầu Công Việc\\nYêu\\n \\ncầu:  \\n...</td>\n",
       "    </tr>\n",
       "    <tr>\n",
       "      <th>2</th>\n",
       "      <td>Warehouse System Specialist (Shift Working)</td>\n",
       "      <td>https://careerviet.vn/vi/tim-viec-lam/warehous...</td>\n",
       "      <td>CÔNG TY TNHH LEGO MANUFACTURING VIỆT NAM</td>\n",
       "      <td>https://careerviet.vn/vi/nha-tuyen-dung/cong-t...</td>\n",
       "      <td>https://images.careerviet.vn/employer_folders/...</td>\n",
       "      <td>[Bình Dương]</td>\n",
       "      <td>13/11/2024</td>\n",
       "      <td>31/12/2024</td>\n",
       "      <td>[Vận chuyển / Giao nhận /  Kho vận]</td>\n",
       "      <td>Cạnh tranh</td>\n",
       "      <td>1 - 5 Năm</td>\n",
       "      <td>Nhân viên</td>\n",
       "      <td>[ Laptop,  Chế độ bảo hiểm,  Phụ cấp,  Xe đưa ...</td>\n",
       "      <td>\\nMô tả Công việc\\nThis position will be ...</td>\n",
       "      <td>\\nYêu Cầu Công Việc\\nDo you have what it...</td>\n",
       "    </tr>\n",
       "    <tr>\n",
       "      <th>3</th>\n",
       "      <td>Warehouse Admin Specialist</td>\n",
       "      <td>https://careerviet.vn/vi/tim-viec-lam/warehous...</td>\n",
       "      <td>CÔNG TY TNHH LEGO MANUFACTURING VIỆT NAM</td>\n",
       "      <td>https://careerviet.vn/vi/nha-tuyen-dung/cong-t...</td>\n",
       "      <td>https://images.careerviet.vn/employer_folders/...</td>\n",
       "      <td>[Bình Dương]</td>\n",
       "      <td>13/11/2024</td>\n",
       "      <td>31/12/2024</td>\n",
       "      <td>[Vận chuyển / Giao nhận /  Kho vận]</td>\n",
       "      <td>Cạnh tranh</td>\n",
       "      <td>1 - 5 Năm</td>\n",
       "      <td>Nhân viên</td>\n",
       "      <td>[ Laptop,  Chế độ bảo hiểm,  Phụ cấp,  Xe đưa ...</td>\n",
       "      <td>\\nMô tả Công việc\\nThis position will be ...</td>\n",
       "      <td>\\nYêu Cầu Công Việc\\nDo you have what it...</td>\n",
       "    </tr>\n",
       "    <tr>\n",
       "      <th>4</th>\n",
       "      <td>CHUYÊN VIÊN CHÍNH THU HÚT NHÂN TÀI</td>\n",
       "      <td>https://careerviet.vn/vi/tim-viec-lam/chuyen-v...</td>\n",
       "      <td>CÔNG TY TÀI CHÍNH BƯU ĐIỆN</td>\n",
       "      <td>https://careerviet.vn/vi/nha-tuyen-dung/cong-t...</td>\n",
       "      <td>https://images.careerviet.vn/employer_folders/...</td>\n",
       "      <td>[Hà Nội]</td>\n",
       "      <td>13/11/2024</td>\n",
       "      <td>12/12/2024</td>\n",
       "      <td>[Nhân sự]</td>\n",
       "      <td>16 Tr - 18 Tr VND</td>\n",
       "      <td>Trên 3 Năm</td>\n",
       "      <td>Nhân viên</td>\n",
       "      <td>[ Chế độ bảo hiểm,  Du Lịch,  Phụ cấp,  Đồng p...</td>\n",
       "      <td>\\nMô tả Công việc\\nTriển khai tuyển d...</td>\n",
       "      <td>\\nYêu Cầu Công Việc\\nTốt nghiệp Đại...</td>\n",
       "    </tr>\n",
       "  </tbody>\n",
       "</table>\n",
       "</div>"
      ],
      "text/plain": [
       "                                     job_title  \\\n",
       "0   Nhân viên Kho - cấp bậc tổ trưởng (làm ca)   \n",
       "1           Nhân viên Kho Lái Xe Nâng (Làm ca)   \n",
       "2  Warehouse System Specialist (Shift Working)   \n",
       "3                   Warehouse Admin Specialist   \n",
       "4           CHUYÊN VIÊN CHÍNH THU HÚT NHÂN TÀI   \n",
       "\n",
       "                                             job_url  \\\n",
       "0  https://careerviet.vn/vi/tim-viec-lam/nhan-vie...   \n",
       "1  https://careerviet.vn/vi/tim-viec-lam/nhan-vie...   \n",
       "2  https://careerviet.vn/vi/tim-viec-lam/warehous...   \n",
       "3  https://careerviet.vn/vi/tim-viec-lam/warehous...   \n",
       "4  https://careerviet.vn/vi/tim-viec-lam/chuyen-v...   \n",
       "\n",
       "                               company_name  \\\n",
       "0  CÔNG TY TNHH LEGO MANUFACTURING VIỆT NAM   \n",
       "1  CÔNG TY TNHH LEGO MANUFACTURING VIỆT NAM   \n",
       "2  CÔNG TY TNHH LEGO MANUFACTURING VIỆT NAM   \n",
       "3  CÔNG TY TNHH LEGO MANUFACTURING VIỆT NAM   \n",
       "4                CÔNG TY TÀI CHÍNH BƯU ĐIỆN   \n",
       "\n",
       "                                         company_url  \\\n",
       "0  https://careerviet.vn/vi/nha-tuyen-dung/cong-t...   \n",
       "1  https://careerviet.vn/vi/nha-tuyen-dung/cong-t...   \n",
       "2  https://careerviet.vn/vi/nha-tuyen-dung/cong-t...   \n",
       "3  https://careerviet.vn/vi/nha-tuyen-dung/cong-t...   \n",
       "4  https://careerviet.vn/vi/nha-tuyen-dung/cong-t...   \n",
       "\n",
       "                                     company_img_url      location  \\\n",
       "0  https://images.careerviet.vn/employer_folders/...  [Bình Dương]   \n",
       "1  https://images.careerviet.vn/employer_folders/...  [Bình Dương]   \n",
       "2  https://images.careerviet.vn/employer_folders/...  [Bình Dương]   \n",
       "3  https://images.careerviet.vn/employer_folders/...  [Bình Dương]   \n",
       "4  https://images.careerviet.vn/employer_folders/...      [Hà Nội]   \n",
       "\n",
       "    post_date    due_date                               fields  \\\n",
       "0  13/11/2024  31/12/2024  [Vận chuyển / Giao nhận /  Kho vận]   \n",
       "1  13/11/2024  31/12/2024  [Vận chuyển / Giao nhận /  Kho vận]   \n",
       "2  13/11/2024  31/12/2024  [Vận chuyển / Giao nhận /  Kho vận]   \n",
       "3  13/11/2024  31/12/2024  [Vận chuyển / Giao nhận /  Kho vận]   \n",
       "4  13/11/2024  12/12/2024                            [Nhân sự]   \n",
       "\n",
       "              salary  experience   position  \\\n",
       "0         Cạnh tranh   1 - 5 Năm  Nhân viên   \n",
       "1         Cạnh tranh   1 - 5 Năm  Nhân viên   \n",
       "2         Cạnh tranh   1 - 5 Năm  Nhân viên   \n",
       "3         Cạnh tranh   1 - 5 Năm  Nhân viên   \n",
       "4  16 Tr - 18 Tr VND  Trên 3 Năm  Nhân viên   \n",
       "\n",
       "                                            benefits  \\\n",
       "0  [ Laptop,  Chế độ bảo hiểm,  Phụ cấp,  Xe đưa ...   \n",
       "1  [ Laptop,  Chế độ bảo hiểm,  Phụ cấp,  Xe đưa ...   \n",
       "2  [ Laptop,  Chế độ bảo hiểm,  Phụ cấp,  Xe đưa ...   \n",
       "3  [ Laptop,  Chế độ bảo hiểm,  Phụ cấp,  Xe đưa ...   \n",
       "4  [ Chế độ bảo hiểm,  Du Lịch,  Phụ cấp,  Đồng p...   \n",
       "\n",
       "                                     job_description  \\\n",
       "0  \\nMô tả Công việc\\nVị trí Nhân viên K...   \n",
       "1  \\nMô tả Công việc\\nVị trí Nhân viên K...   \n",
       "2  \\nMô tả Công việc\\nThis position will be ...   \n",
       "3  \\nMô tả Công việc\\nThis position will be ...   \n",
       "4  \\nMô tả Công việc\\nTriển khai tuyển d...   \n",
       "\n",
       "                                        requirements  \n",
       "0  \\nYêu Cầu Công Việc\\nYêu cầu công vi...  \n",
       "1  \\nYêu Cầu Công Việc\\nYêu\\n \\ncầu:  \\n...  \n",
       "2  \\nYêu Cầu Công Việc\\nDo you have what it...  \n",
       "3  \\nYêu Cầu Công Việc\\nDo you have what it...  \n",
       "4  \\nYêu Cầu Công Việc\\nTốt nghiệp Đại...  "
      ]
     },
     "metadata": {},
     "output_type": "display_data"
    }
   ],
   "source": [
    "import os\n",
    "import pandas as pd\n",
    "\n",
    "# Get the current working directory (inside Preprocess folder)\n",
    "base_dir = os.getcwd()\n",
    "json_path = os.path.abspath(os.path.join(base_dir, \"..\", \"CareerViet\", \"CareerViet_Official.json\"))\n",
    "\n",
    "# Check if the file exists\n",
    "if os.path.exists(json_path):\n",
    "    df = pd.read_json(json_path)\n",
    "    display(df.head(5))\n",
    "else:\n",
    "    print(f\"File {json_path} does not exist\")\n"
   ]
  },
  {
   "cell_type": "code",
   "execution_count": 17,
   "metadata": {},
   "outputs": [
    {
     "data": {
      "text/plain": [
       "job_title          object\n",
       "job_url            object\n",
       "company_name       object\n",
       "company_url        object\n",
       "company_img_url    object\n",
       "location           object\n",
       "post_date          object\n",
       "due_date           object\n",
       "fields             object\n",
       "salary             object\n",
       "experience         object\n",
       "position           object\n",
       "benefits           object\n",
       "job_description    object\n",
       "requirements       object\n",
       "dtype: object"
      ]
     },
     "execution_count": 17,
     "metadata": {},
     "output_type": "execute_result"
    }
   ],
   "source": [
    "df.dtypes"
   ]
  },
  {
   "cell_type": "markdown",
   "metadata": {},
   "source": [
    "Let's change date to timestamp"
   ]
  },
  {
   "cell_type": "markdown",
   "metadata": {},
   "source": [
    "### Date"
   ]
  },
  {
   "cell_type": "code",
   "execution_count": 18,
   "metadata": {},
   "outputs": [
    {
     "data": {
      "text/plain": [
       "array(['13/11/2024', ' 13/11/2024 ', '16/10/2024', '27/10/2024',\n",
       "       '03/11/2024', '\\n Vĩnh Phúc \\n\\n  ', '12/11/2024', ' 12/11/2024 ',\n",
       "       '04/11/2024', '06/11/2024', '\\n Hồ Chí Minh Bình Dương \\n\\n  ',\n",
       "       '11/11/2024', '09/11/2024', '\\n Hồ Chí Minh \\n\\n  ', '13/10/2024',\n",
       "       '02/11/2024', ' 11/11/2024 ', '\\n Đồng Nai \\n\\n  ', '08/11/2024',\n",
       "       '05/11/2024', '\\n Tiền Giang \\n\\n  ', '22/10/2024',\n",
       "       '\\n Long An \\n\\n  ', '\\n Hà Nội \\n\\n  ', '07/11/2024',\n",
       "       ' 06/11/2024 ', ' 08/11/2024 ', '31/10/2024', '12/10/2024',\n",
       "       '01/11/2024', '25/10/2024', ' 09/11/2024 ', ' 10/11/2024 ',\n",
       "       ' 04/11/2024 ', '\\n Bình Dương \\n\\n  ', '10/11/2024', '11/10/2024',\n",
       "       '10/10/2024', '30/10/2024', ' 30/10/2024 ', '24/10/2024',\n",
       "       '29/10/2024', ' 07/11/2024 ', '14/11/2024', ' 14/11/2024 ',\n",
       "       '\\n Hà Nội Hải Phòng Hồ Chí Minh \\n\\n  ', '\\n Hải Dương \\n\\n  ',\n",
       "       ' 05/11/2024 ', ' 03/11/2024 ', ' 02/11/2024 ', ' 01/11/2024 ',\n",
       "       ' 31/10/2024 ', '\\n Quốc tế \\n\\n  ', ' 29/10/2024 ', '28/10/2024',\n",
       "       ' 28/10/2024 ', ' 27/10/2024 ', '26/10/2024', ' 26/10/2024 ',\n",
       "       ' 25/10/2024 ', ' 24/10/2024 ', '23/10/2024', ' 23/10/2024 ',\n",
       "       ' 22/10/2024 ', '21/10/2024', ' 21/10/2024 ', '20/10/2024',\n",
       "       ' 20/10/2024 ', '19/10/2024', ' 19/10/2024 ', '18/10/2024',\n",
       "       ' 18/10/2024 ', '17/10/2024', ' 17/10/2024 ', ' 16/10/2024 ',\n",
       "       '15/10/2024', ' 15/10/2024 ', '14/10/2024'], dtype=object)"
      ]
     },
     "execution_count": 18,
     "metadata": {},
     "output_type": "execute_result"
    }
   ],
   "source": [
    "df['post_date'].unique()"
   ]
  },
  {
   "cell_type": "code",
   "execution_count": 19,
   "metadata": {},
   "outputs": [
    {
     "data": {
      "text/plain": [
       "array(['31/12/2024', '12/12/2024', '30/11/2024', '13/12/2024',\n",
       "       '18/12/2024', '15/12/2024', '14/12/2024', '06/12/2024',\n",
       "       '24/12/2024', '29/12/2024', '10/12/2024', '13/11/2024',\n",
       "       '20/12/2024', '08/12/2024', '17/12/2024', '31/01/2025',\n",
       "       '01/12/2024', '28/11/2024', '16/12/2024', '09/12/2024',\n",
       "       '11/12/2024', '27/11/2024', '02/12/2024', '11/01/2025',\n",
       "       '15/11/2024', '07/12/2024', '04/12/2024', '29/11/2024',\n",
       "       '27/12/2024', '30/12/2024', '26/11/2024', '25/11/2024',\n",
       "       '19/12/2024', '05/12/2024', '23/11/2024', ' 13/11/2024 ',\n",
       "       '09/02/2025', '25/12/2024', '12/11/2024', '03/12/2024',\n",
       "       '26/12/2024', '21/11/2024', '05/01/2025', '21/12/2024',\n",
       "       '23/12/2024', '28/12/2024', '10/01/2025', '30/03/2024',\n",
       "       '23/01/2025', '16/11/2024', ' 12/11/2024 ', '24/11/2024',\n",
       "       '22/12/2024', '22/11/2024', '19/11/2024', '14/11/2024',\n",
       "       '10/11/2024', '20/11/2024', '31/10/2024', ' 11/11/2024 ',\n",
       "       '14/01/2025', '18/11/2024', '22/10/2024', '19/01/2025',\n",
       "       '09/11/2024', '01/11/2024', '27/10/2024', '04/11/2024',\n",
       "       '07/11/2024', '11/11/2024', '08/11/2024', '17/11/2024',\n",
       "       '27/03/2025', '29/10/2024', '30/10/2024', '04/01/2025',\n",
       "       '06/01/2025', '01/02/2025', '01/01/2025', '02/01/2025',\n",
       "       '05/11/2024', '31/05/2025', '24/01/2025', '15/01/2025',\n",
       "       '08/02/2025', '21/10/2024', '26/10/2024', '18/10/2024',\n",
       "       '24/10/2024', '03/11/2024', '28/10/2024', '06/11/2024',\n",
       "       '29/01/2025', '21/08/2024', '30/01/2025', ' 10/11/2024 ',\n",
       "       '20/10/2024', '01/03/2025', '01/04/2025', ' 09/11/2024 ',\n",
       "       '30/04/2025', '02/11/2024', '15/08/2022', '31/08/2022',\n",
       "       '10/08/2022', '21/01/2024', '25/10/2024', ' 08/11/2024 ',\n",
       "       '05/10/2024', '31/10/2025', '28/02/2025', '20/01/2025',\n",
       "       '07/01/2025', ' 07/11/2024 ', '17/10/2024', '31/08/2024',\n",
       "       '30/10/2025', '25/01/2025', ' 06/11/2024 ', '16/10/2024',\n",
       "       '19/10/2024', '23/10/2024', '30/09/2024', ' 05/11/2024 ',\n",
       "       '15/10/2024', '08/01/2025', '16/01/2025', '22/01/2025',\n",
       "       ' 04/11/2024 ', '14/10/2024', '28/03/2025', ' 01/11/2024 ',\n",
       "       ' 31/10/2024 ', ' 29/10/2024 ', ' 28/10/2024 ', ' 27/10/2024 ',\n",
       "       ' 26/10/2024 ', ' 25/10/2024 ', ' 24/10/2024 ', ' 22/10/2024 ',\n",
       "       ' 20/10/2024 ', ' 19/10/2024 ', '18/01/2025', ' 18/10/2024 ',\n",
       "       ' 17/10/2024 ', '15/10/2022', '05/02/2025', '11/10/2024',\n",
       "       '30/06/2025', '01/10/2025', '15/09/2024'], dtype=object)"
      ]
     },
     "execution_count": 19,
     "metadata": {},
     "output_type": "execute_result"
    }
   ],
   "source": [
    "df['due_date'].unique()"
   ]
  },
  {
   "cell_type": "markdown",
   "metadata": {},
   "source": [
    "There are some invalid values, let's remove them"
   ]
  },
  {
   "cell_type": "code",
   "execution_count": 20,
   "metadata": {},
   "outputs": [],
   "source": [
    "def is_date(string):\n",
    "    try:\n",
    "        pd.to_datetime(string.strip(), format='%d/%m/%Y', errors='raise')\n",
    "        return True\n",
    "    except:\n",
    "        return False"
   ]
  },
  {
   "cell_type": "code",
   "execution_count": 21,
   "metadata": {},
   "outputs": [
    {
     "name": "stderr",
     "output_type": "stream",
     "text": [
      "/tmp/ipykernel_201468/3914645375.py:4: SettingWithCopyWarning: \n",
      "A value is trying to be set on a copy of a slice from a DataFrame.\n",
      "Try using .loc[row_indexer,col_indexer] = value instead\n",
      "\n",
      "See the caveats in the documentation: https://pandas.pydata.org/pandas-docs/stable/user_guide/indexing.html#returning-a-view-versus-a-copy\n",
      "  new_df['post_date']=new_df['post_date'].str.strip()\n",
      "/tmp/ipykernel_201468/3914645375.py:5: SettingWithCopyWarning: \n",
      "A value is trying to be set on a copy of a slice from a DataFrame.\n",
      "Try using .loc[row_indexer,col_indexer] = value instead\n",
      "\n",
      "See the caveats in the documentation: https://pandas.pydata.org/pandas-docs/stable/user_guide/indexing.html#returning-a-view-versus-a-copy\n",
      "  new_df['due_date']=new_df['due_date'].str.strip()\n"
     ]
    }
   ],
   "source": [
    "mask = df['post_date'].apply(is_date) & df['due_date'].apply(is_date)\n",
    "new_df = df[mask]\n",
    "new_df.reset_index(drop=True, inplace=True)\n",
    "new_df['post_date']=new_df['post_date'].str.strip()\n",
    "new_df['due_date']=new_df['due_date'].str.strip()"
   ]
  },
  {
   "cell_type": "code",
   "execution_count": 22,
   "metadata": {},
   "outputs": [
    {
     "data": {
      "text/plain": [
       "array(['13/11/2024', '16/10/2024', '27/10/2024', '03/11/2024',\n",
       "       '12/11/2024', '04/11/2024', '06/11/2024', '11/11/2024',\n",
       "       '09/11/2024', '13/10/2024', '02/11/2024', '08/11/2024',\n",
       "       '05/11/2024', '22/10/2024', '07/11/2024', '31/10/2024',\n",
       "       '12/10/2024', '01/11/2024', '25/10/2024', '10/11/2024',\n",
       "       '11/10/2024', '10/10/2024', '30/10/2024', '24/10/2024',\n",
       "       '29/10/2024', '14/11/2024', '28/10/2024', '26/10/2024',\n",
       "       '23/10/2024', '21/10/2024', '20/10/2024', '19/10/2024',\n",
       "       '18/10/2024', '17/10/2024', '15/10/2024', '14/10/2024'],\n",
       "      dtype=object)"
      ]
     },
     "execution_count": 22,
     "metadata": {},
     "output_type": "execute_result"
    }
   ],
   "source": [
    "new_df['post_date'].unique()"
   ]
  },
  {
   "cell_type": "code",
   "execution_count": 23,
   "metadata": {},
   "outputs": [
    {
     "data": {
      "text/plain": [
       "array(['31/12/2024', '12/12/2024', '30/11/2024', '13/12/2024',\n",
       "       '18/12/2024', '15/12/2024', '14/12/2024', '06/12/2024',\n",
       "       '24/12/2024', '29/12/2024', '10/12/2024', '13/11/2024',\n",
       "       '20/12/2024', '08/12/2024', '17/12/2024', '31/01/2025',\n",
       "       '01/12/2024', '28/11/2024', '16/12/2024', '09/12/2024',\n",
       "       '11/12/2024', '27/11/2024', '02/12/2024', '11/01/2025',\n",
       "       '15/11/2024', '07/12/2024', '04/12/2024', '29/11/2024',\n",
       "       '27/12/2024', '30/12/2024', '26/11/2024', '25/11/2024',\n",
       "       '19/12/2024', '05/12/2024', '23/11/2024', '09/02/2025',\n",
       "       '25/12/2024', '12/11/2024', '03/12/2024', '26/12/2024',\n",
       "       '21/11/2024', '05/01/2025', '21/12/2024', '23/12/2024',\n",
       "       '28/12/2024', '10/01/2025', '30/03/2024', '23/01/2025',\n",
       "       '16/11/2024', '24/11/2024', '22/12/2024', '22/11/2024',\n",
       "       '19/11/2024', '14/11/2024', '10/11/2024', '20/11/2024',\n",
       "       '31/10/2024', '14/01/2025', '18/11/2024', '22/10/2024',\n",
       "       '19/01/2025', '09/11/2024', '01/11/2024', '27/10/2024',\n",
       "       '04/11/2024', '07/11/2024', '11/11/2024', '08/11/2024',\n",
       "       '17/11/2024', '27/03/2025', '29/10/2024', '30/10/2024',\n",
       "       '04/01/2025', '06/01/2025', '01/02/2025', '01/01/2025',\n",
       "       '02/01/2025', '05/11/2024', '31/05/2025', '24/01/2025',\n",
       "       '15/01/2025', '08/02/2025', '21/10/2024', '26/10/2024',\n",
       "       '18/10/2024', '24/10/2024', '03/11/2024', '28/10/2024',\n",
       "       '06/11/2024', '29/01/2025', '21/08/2024', '30/01/2025',\n",
       "       '20/10/2024', '01/03/2025', '01/04/2025', '30/04/2025',\n",
       "       '02/11/2024', '15/08/2022', '31/08/2022', '10/08/2022',\n",
       "       '21/01/2024', '25/10/2024', '05/10/2024', '31/10/2025',\n",
       "       '28/02/2025', '20/01/2025', '07/01/2025', '17/10/2024',\n",
       "       '31/08/2024', '30/10/2025', '25/01/2025', '16/10/2024',\n",
       "       '19/10/2024', '23/10/2024', '30/09/2024', '15/10/2024',\n",
       "       '08/01/2025', '16/01/2025', '22/01/2025', '14/10/2024',\n",
       "       '28/03/2025', '18/01/2025', '15/10/2022', '05/02/2025',\n",
       "       '11/10/2024', '30/06/2025', '01/10/2025', '15/09/2024'],\n",
       "      dtype=object)"
      ]
     },
     "execution_count": 23,
     "metadata": {},
     "output_type": "execute_result"
    }
   ],
   "source": [
    "new_df['due_date'].unique()"
   ]
  },
  {
   "cell_type": "markdown",
   "metadata": {},
   "source": [
    "Seem fine now"
   ]
  },
  {
   "cell_type": "code",
   "execution_count": 24,
   "metadata": {},
   "outputs": [
    {
     "name": "stderr",
     "output_type": "stream",
     "text": [
      "/tmp/ipykernel_201468/1368203367.py:5: SettingWithCopyWarning: \n",
      "A value is trying to be set on a copy of a slice from a DataFrame.\n",
      "Try using .loc[row_indexer,col_indexer] = value instead\n",
      "\n",
      "See the caveats in the documentation: https://pandas.pydata.org/pandas-docs/stable/user_guide/indexing.html#returning-a-view-versus-a-copy\n",
      "  new_df['post_date'] = new_df['post_date'].apply(string_to_unix_epoch)\n",
      "/tmp/ipykernel_201468/1368203367.py:6: SettingWithCopyWarning: \n",
      "A value is trying to be set on a copy of a slice from a DataFrame.\n",
      "Try using .loc[row_indexer,col_indexer] = value instead\n",
      "\n",
      "See the caveats in the documentation: https://pandas.pydata.org/pandas-docs/stable/user_guide/indexing.html#returning-a-view-versus-a-copy\n",
      "  new_df['due_date'] = new_df['due_date'].apply(string_to_unix_epoch)\n"
     ]
    }
   ],
   "source": [
    "def string_to_unix_epoch(string):\n",
    "    element = datetime.datetime.strptime(string, \"%d/%m/%Y\")\n",
    "    return int(datetime.datetime.timestamp(element))\n",
    "\n",
    "new_df['post_date'] = new_df['post_date'].apply(string_to_unix_epoch)\n",
    "new_df['due_date'] = new_df['due_date'].apply(string_to_unix_epoch)"
   ]
  },
  {
   "cell_type": "code",
   "execution_count": 25,
   "metadata": {},
   "outputs": [
    {
     "data": {
      "text/plain": [
       "array([1731430800, 1729011600, 1729962000, 1730566800, 1731344400,\n",
       "       1730653200, 1730826000, 1731258000, 1731085200, 1728752400,\n",
       "       1730480400, 1730998800, 1730739600, 1729530000, 1730912400,\n",
       "       1730307600, 1728666000, 1730394000, 1729789200, 1731171600,\n",
       "       1728579600, 1728493200, 1730221200, 1729702800, 1730134800,\n",
       "       1731517200, 1730048400, 1729875600, 1729616400, 1729443600,\n",
       "       1729357200, 1729270800, 1729184400, 1729098000, 1728925200,\n",
       "       1728838800])"
      ]
     },
     "execution_count": 25,
     "metadata": {},
     "output_type": "execute_result"
    }
   ],
   "source": [
    "new_df['post_date'].unique()"
   ]
  },
  {
   "cell_type": "markdown",
   "metadata": {},
   "source": [
    "### Fields"
   ]
  },
  {
   "cell_type": "markdown",
   "metadata": {},
   "source": [
    "CareerViet and VietnamWorks have different name for fields, let's map them up."
   ]
  },
  {
   "cell_type": "code",
   "execution_count": 26,
   "metadata": {},
   "outputs": [
    {
     "name": "stderr",
     "output_type": "stream",
     "text": [
      "/tmp/ipykernel_201468/2192135171.py:4: FutureWarning: unique with argument that is not not a Series, Index, ExtensionArray, or np.ndarray is deprecated and will raise in a future version.\n",
      "  unique_fields = pd.unique(flat_fields)\n"
     ]
    },
    {
     "data": {
      "text/plain": [
       "array(['Vận chuyển / Giao nhận /  Kho vận', 'Nhân sự',\n",
       "       'Sản xuất / Vận hành sản xuất', 'Dịch vụ khách hàng',\n",
       "       'In ấn / Xuất bản', 'Ngành khác', 'Cơ khí / Ô tô / Tự động hóa',\n",
       "       'Dầu khí', 'CNTT - Phần mềm', 'Xây dựng', 'Bất động sản',\n",
       "       'Biên phiên dịch', 'Tiếp thị / Marketing',\n",
       "       'Quảng cáo / Đối ngoại / Truyền Thông', 'Bán lẻ / Bán sỉ',\n",
       "       'Giáo dục / Đào tạo', 'Tài chính / Đầu tư',\n",
       "       'Bán hàng / Kinh doanh', 'Bưu chính viễn thông',\n",
       "       'Thực phẩm & Đồ uống', 'Nhà hàng / Khách sạn', 'Tư vấn',\n",
       "       'Quản lý điều hành', 'Mỹ thuật / Nghệ thuật / Thiết kế',\n",
       "       'Hành chính / Thư ký', 'Kiến trúc',\n",
       "       'Truyền hình / Báo chí / Biên tập', 'Kế toán / Kiểm toán',\n",
       "       'Công nghệ thực phẩm / Dinh dưỡng', 'Quản lý chất lượng (QA/QC)',\n",
       "       'Dược phẩm', 'Y tế / Chăm sóc sức khỏe',\n",
       "       'Dệt may / Da giày / Thời trang', 'Thu mua / Vật tư',\n",
       "       'Điện / Điện tử / Điện lạnh', 'Đồ gỗ', 'Nội ngoại thất',\n",
       "       'Chăn nuôi / Thú y', 'Công nghệ sinh học', 'Tiếp thị trực tuyến',\n",
       "       'Môi trường', 'Luật / Pháp lý', 'Ngân hàng', 'Xuất nhập khẩu',\n",
       "       'An toàn lao động', 'Bảo trì / Sửa chữa', 'Bảo hiểm',\n",
       "       'Tổ chức sự kiện', 'Giải trí', 'Chứng khoán',\n",
       "       'CNTT - Phần cứng / Mạng', 'Hàng không', 'Khoáng sản',\n",
       "       'An Ninh / Bảo Vệ', 'Hóa học', 'Du lịch', 'Nông nghiệp',\n",
       "       'Lâm Nghiệp', 'Lao động phổ thông',\n",
       "       'Hàng gia dụng / Chăm sóc cá nhân', 'Mới tốt nghiệp / Thực tập',\n",
       "       'Thống kê', 'Trắc địa / Địa Chất', 'Hàng hải',\n",
       "       'Thủy sản / Hải sản', 'Thư viện', 'Thủy lợi',\n",
       "       'Phi chính phủ / Phi lợi nhuận'], dtype=object)"
      ]
     },
     "execution_count": 26,
     "metadata": {},
     "output_type": "execute_result"
    }
   ],
   "source": [
    "flat_fields = [item for sublist in new_df['fields'] for item in sublist]\n",
    "\n",
    "# Get unique values\n",
    "unique_fields = pd.unique(flat_fields)\n",
    "\n",
    "unique_fields"
   ]
  },
  {
   "cell_type": "markdown",
   "metadata": {},
   "source": [
    "Let's map them"
   ]
  },
  {
   "cell_type": "code",
   "execution_count": 27,
   "metadata": {},
   "outputs": [
    {
     "name": "stderr",
     "output_type": "stream",
     "text": [
      "/tmp/ipykernel_201468/1746297126.py:74: SettingWithCopyWarning: \n",
      "A value is trying to be set on a copy of a slice from a DataFrame.\n",
      "Try using .loc[row_indexer,col_indexer] = value instead\n",
      "\n",
      "See the caveats in the documentation: https://pandas.pydata.org/pandas-docs/stable/user_guide/indexing.html#returning-a-view-versus-a-copy\n",
      "  new_df['en_fields'] = new_df['fields'].apply(lambda x: [translation_mapping[field] for field in x])\n"
     ]
    },
    {
     "data": {
      "text/html": [
       "<div>\n",
       "<style scoped>\n",
       "    .dataframe tbody tr th:only-of-type {\n",
       "        vertical-align: middle;\n",
       "    }\n",
       "\n",
       "    .dataframe tbody tr th {\n",
       "        vertical-align: top;\n",
       "    }\n",
       "\n",
       "    .dataframe thead th {\n",
       "        text-align: right;\n",
       "    }\n",
       "</style>\n",
       "<table border=\"1\" class=\"dataframe\">\n",
       "  <thead>\n",
       "    <tr style=\"text-align: right;\">\n",
       "      <th></th>\n",
       "      <th>job_title</th>\n",
       "      <th>job_url</th>\n",
       "      <th>company_name</th>\n",
       "      <th>company_url</th>\n",
       "      <th>company_img_url</th>\n",
       "      <th>location</th>\n",
       "      <th>post_date</th>\n",
       "      <th>due_date</th>\n",
       "      <th>fields</th>\n",
       "      <th>salary</th>\n",
       "      <th>experience</th>\n",
       "      <th>position</th>\n",
       "      <th>benefits</th>\n",
       "      <th>job_description</th>\n",
       "      <th>requirements</th>\n",
       "      <th>en_fields</th>\n",
       "    </tr>\n",
       "  </thead>\n",
       "  <tbody>\n",
       "    <tr>\n",
       "      <th>0</th>\n",
       "      <td>Nhân viên Kho - cấp bậc tổ trưởng (làm ca)</td>\n",
       "      <td>https://careerviet.vn/vi/tim-viec-lam/nhan-vie...</td>\n",
       "      <td>CÔNG TY TNHH LEGO MANUFACTURING VIỆT NAM</td>\n",
       "      <td>https://careerviet.vn/vi/nha-tuyen-dung/cong-t...</td>\n",
       "      <td>https://images.careerviet.vn/employer_folders/...</td>\n",
       "      <td>[Bình Dương]</td>\n",
       "      <td>1731430800</td>\n",
       "      <td>1735578000</td>\n",
       "      <td>[Vận chuyển / Giao nhận /  Kho vận]</td>\n",
       "      <td>Cạnh tranh</td>\n",
       "      <td>1 - 5 Năm</td>\n",
       "      <td>Nhân viên</td>\n",
       "      <td>[ Laptop,  Chế độ bảo hiểm,  Phụ cấp,  Xe đưa ...</td>\n",
       "      <td>\\nMô tả Công việc\\nVị trí Nhân viên K...</td>\n",
       "      <td>\\nYêu Cầu Công Việc\\nYêu cầu công vi...</td>\n",
       "      <td>[Logistics]</td>\n",
       "    </tr>\n",
       "    <tr>\n",
       "      <th>1</th>\n",
       "      <td>Nhân viên Kho Lái Xe Nâng (Làm ca)</td>\n",
       "      <td>https://careerviet.vn/vi/tim-viec-lam/nhan-vie...</td>\n",
       "      <td>CÔNG TY TNHH LEGO MANUFACTURING VIỆT NAM</td>\n",
       "      <td>https://careerviet.vn/vi/nha-tuyen-dung/cong-t...</td>\n",
       "      <td>https://images.careerviet.vn/employer_folders/...</td>\n",
       "      <td>[Bình Dương]</td>\n",
       "      <td>1731430800</td>\n",
       "      <td>1735578000</td>\n",
       "      <td>[Vận chuyển / Giao nhận /  Kho vận]</td>\n",
       "      <td>Cạnh tranh</td>\n",
       "      <td>1 - 5 Năm</td>\n",
       "      <td>Nhân viên</td>\n",
       "      <td>[ Laptop,  Chế độ bảo hiểm,  Phụ cấp,  Xe đưa ...</td>\n",
       "      <td>\\nMô tả Công việc\\nVị trí Nhân viên K...</td>\n",
       "      <td>\\nYêu Cầu Công Việc\\nYêu\\n \\ncầu:  \\n...</td>\n",
       "      <td>[Logistics]</td>\n",
       "    </tr>\n",
       "    <tr>\n",
       "      <th>2</th>\n",
       "      <td>Warehouse System Specialist (Shift Working)</td>\n",
       "      <td>https://careerviet.vn/vi/tim-viec-lam/warehous...</td>\n",
       "      <td>CÔNG TY TNHH LEGO MANUFACTURING VIỆT NAM</td>\n",
       "      <td>https://careerviet.vn/vi/nha-tuyen-dung/cong-t...</td>\n",
       "      <td>https://images.careerviet.vn/employer_folders/...</td>\n",
       "      <td>[Bình Dương]</td>\n",
       "      <td>1731430800</td>\n",
       "      <td>1735578000</td>\n",
       "      <td>[Vận chuyển / Giao nhận /  Kho vận]</td>\n",
       "      <td>Cạnh tranh</td>\n",
       "      <td>1 - 5 Năm</td>\n",
       "      <td>Nhân viên</td>\n",
       "      <td>[ Laptop,  Chế độ bảo hiểm,  Phụ cấp,  Xe đưa ...</td>\n",
       "      <td>\\nMô tả Công việc\\nThis position will be ...</td>\n",
       "      <td>\\nYêu Cầu Công Việc\\nDo you have what it...</td>\n",
       "      <td>[Logistics]</td>\n",
       "    </tr>\n",
       "    <tr>\n",
       "      <th>3</th>\n",
       "      <td>Warehouse Admin Specialist</td>\n",
       "      <td>https://careerviet.vn/vi/tim-viec-lam/warehous...</td>\n",
       "      <td>CÔNG TY TNHH LEGO MANUFACTURING VIỆT NAM</td>\n",
       "      <td>https://careerviet.vn/vi/nha-tuyen-dung/cong-t...</td>\n",
       "      <td>https://images.careerviet.vn/employer_folders/...</td>\n",
       "      <td>[Bình Dương]</td>\n",
       "      <td>1731430800</td>\n",
       "      <td>1735578000</td>\n",
       "      <td>[Vận chuyển / Giao nhận /  Kho vận]</td>\n",
       "      <td>Cạnh tranh</td>\n",
       "      <td>1 - 5 Năm</td>\n",
       "      <td>Nhân viên</td>\n",
       "      <td>[ Laptop,  Chế độ bảo hiểm,  Phụ cấp,  Xe đưa ...</td>\n",
       "      <td>\\nMô tả Công việc\\nThis position will be ...</td>\n",
       "      <td>\\nYêu Cầu Công Việc\\nDo you have what it...</td>\n",
       "      <td>[Logistics]</td>\n",
       "    </tr>\n",
       "    <tr>\n",
       "      <th>4</th>\n",
       "      <td>CHUYÊN VIÊN CHÍNH THU HÚT NHÂN TÀI</td>\n",
       "      <td>https://careerviet.vn/vi/tim-viec-lam/chuyen-v...</td>\n",
       "      <td>CÔNG TY TÀI CHÍNH BƯU ĐIỆN</td>\n",
       "      <td>https://careerviet.vn/vi/nha-tuyen-dung/cong-t...</td>\n",
       "      <td>https://images.careerviet.vn/employer_folders/...</td>\n",
       "      <td>[Hà Nội]</td>\n",
       "      <td>1731430800</td>\n",
       "      <td>1733936400</td>\n",
       "      <td>[Nhân sự]</td>\n",
       "      <td>16 Tr - 18 Tr VND</td>\n",
       "      <td>Trên 3 Năm</td>\n",
       "      <td>Nhân viên</td>\n",
       "      <td>[ Chế độ bảo hiểm,  Du Lịch,  Phụ cấp,  Đồng p...</td>\n",
       "      <td>\\nMô tả Công việc\\nTriển khai tuyển d...</td>\n",
       "      <td>\\nYêu Cầu Công Việc\\nTốt nghiệp Đại...</td>\n",
       "      <td>[Human Resources]</td>\n",
       "    </tr>\n",
       "  </tbody>\n",
       "</table>\n",
       "</div>"
      ],
      "text/plain": [
       "                                     job_title  \\\n",
       "0   Nhân viên Kho - cấp bậc tổ trưởng (làm ca)   \n",
       "1           Nhân viên Kho Lái Xe Nâng (Làm ca)   \n",
       "2  Warehouse System Specialist (Shift Working)   \n",
       "3                   Warehouse Admin Specialist   \n",
       "4           CHUYÊN VIÊN CHÍNH THU HÚT NHÂN TÀI   \n",
       "\n",
       "                                             job_url  \\\n",
       "0  https://careerviet.vn/vi/tim-viec-lam/nhan-vie...   \n",
       "1  https://careerviet.vn/vi/tim-viec-lam/nhan-vie...   \n",
       "2  https://careerviet.vn/vi/tim-viec-lam/warehous...   \n",
       "3  https://careerviet.vn/vi/tim-viec-lam/warehous...   \n",
       "4  https://careerviet.vn/vi/tim-viec-lam/chuyen-v...   \n",
       "\n",
       "                               company_name  \\\n",
       "0  CÔNG TY TNHH LEGO MANUFACTURING VIỆT NAM   \n",
       "1  CÔNG TY TNHH LEGO MANUFACTURING VIỆT NAM   \n",
       "2  CÔNG TY TNHH LEGO MANUFACTURING VIỆT NAM   \n",
       "3  CÔNG TY TNHH LEGO MANUFACTURING VIỆT NAM   \n",
       "4                CÔNG TY TÀI CHÍNH BƯU ĐIỆN   \n",
       "\n",
       "                                         company_url  \\\n",
       "0  https://careerviet.vn/vi/nha-tuyen-dung/cong-t...   \n",
       "1  https://careerviet.vn/vi/nha-tuyen-dung/cong-t...   \n",
       "2  https://careerviet.vn/vi/nha-tuyen-dung/cong-t...   \n",
       "3  https://careerviet.vn/vi/nha-tuyen-dung/cong-t...   \n",
       "4  https://careerviet.vn/vi/nha-tuyen-dung/cong-t...   \n",
       "\n",
       "                                     company_img_url      location  \\\n",
       "0  https://images.careerviet.vn/employer_folders/...  [Bình Dương]   \n",
       "1  https://images.careerviet.vn/employer_folders/...  [Bình Dương]   \n",
       "2  https://images.careerviet.vn/employer_folders/...  [Bình Dương]   \n",
       "3  https://images.careerviet.vn/employer_folders/...  [Bình Dương]   \n",
       "4  https://images.careerviet.vn/employer_folders/...      [Hà Nội]   \n",
       "\n",
       "    post_date    due_date                               fields  \\\n",
       "0  1731430800  1735578000  [Vận chuyển / Giao nhận /  Kho vận]   \n",
       "1  1731430800  1735578000  [Vận chuyển / Giao nhận /  Kho vận]   \n",
       "2  1731430800  1735578000  [Vận chuyển / Giao nhận /  Kho vận]   \n",
       "3  1731430800  1735578000  [Vận chuyển / Giao nhận /  Kho vận]   \n",
       "4  1731430800  1733936400                            [Nhân sự]   \n",
       "\n",
       "              salary  experience   position  \\\n",
       "0         Cạnh tranh   1 - 5 Năm  Nhân viên   \n",
       "1         Cạnh tranh   1 - 5 Năm  Nhân viên   \n",
       "2         Cạnh tranh   1 - 5 Năm  Nhân viên   \n",
       "3         Cạnh tranh   1 - 5 Năm  Nhân viên   \n",
       "4  16 Tr - 18 Tr VND  Trên 3 Năm  Nhân viên   \n",
       "\n",
       "                                            benefits  \\\n",
       "0  [ Laptop,  Chế độ bảo hiểm,  Phụ cấp,  Xe đưa ...   \n",
       "1  [ Laptop,  Chế độ bảo hiểm,  Phụ cấp,  Xe đưa ...   \n",
       "2  [ Laptop,  Chế độ bảo hiểm,  Phụ cấp,  Xe đưa ...   \n",
       "3  [ Laptop,  Chế độ bảo hiểm,  Phụ cấp,  Xe đưa ...   \n",
       "4  [ Chế độ bảo hiểm,  Du Lịch,  Phụ cấp,  Đồng p...   \n",
       "\n",
       "                                     job_description  \\\n",
       "0  \\nMô tả Công việc\\nVị trí Nhân viên K...   \n",
       "1  \\nMô tả Công việc\\nVị trí Nhân viên K...   \n",
       "2  \\nMô tả Công việc\\nThis position will be ...   \n",
       "3  \\nMô tả Công việc\\nThis position will be ...   \n",
       "4  \\nMô tả Công việc\\nTriển khai tuyển d...   \n",
       "\n",
       "                                        requirements          en_fields  \n",
       "0  \\nYêu Cầu Công Việc\\nYêu cầu công vi...        [Logistics]  \n",
       "1  \\nYêu Cầu Công Việc\\nYêu\\n \\ncầu:  \\n...        [Logistics]  \n",
       "2  \\nYêu Cầu Công Việc\\nDo you have what it...        [Logistics]  \n",
       "3  \\nYêu Cầu Công Việc\\nDo you have what it...        [Logistics]  \n",
       "4  \\nYêu Cầu Công Việc\\nTốt nghiệp Đại...  [Human Resources]  "
      ]
     },
     "execution_count": 27,
     "metadata": {},
     "output_type": "execute_result"
    }
   ],
   "source": [
    "translation_mapping = {\n",
    "    'Dệt may / Da giày / Thời trang': 'Textiles',\n",
    "    'Hành chính / Thư ký': 'Office Administration',\n",
    "    'Sản xuất / Vận hành sản xuất': 'Manufacturing',\n",
    "    'Bán lẻ / Bán sỉ': 'Retail/Consumer',\n",
    "    'Dịch vụ khách hàng': 'Customer Service',\n",
    "    'Giáo dục / Đào tạo': 'Education',\n",
    "    'Bất động sản': 'Real Estate',\n",
    "    'Bán hàng / Kinh doanh': 'Business',\n",
    "    'Kế toán / Kiểm toán': 'Accounting/Auditing',\n",
    "    'Nhân sự': 'Human Resources',\n",
    "    'Ngân hàng': 'Banking/Finance',\n",
    "    'Bảo hiểm': 'Insurance',\n",
    "    'Tiếp thị / Marketing': 'Marketing/Advertising/Communications',\n",
    "    'Nông nghiệp': 'Agriculture/Forestry/Fisheries',\n",
    "    'Chứng khoán': 'Banking/Finance',\n",
    "    'Vận chuyển / Giao nhận /  Kho vận': 'Logistics',\n",
    "    'Du lịch': 'Hospitality - Hotels/Tourism',\n",
    "    'Dược phẩm': 'Pharmaceuticals',\n",
    "    'Y tế / Chăm sóc sức khỏe': 'Healthcare',\n",
    "    'Quản lý điều hành': 'Business',\n",
    "    'Tài chính / Đầu tư': 'Banking/Finance',\n",
    "    'Truyền hình / Báo chí / Biên tập': 'Arts/Media/Printing/Publishing',\n",
    "    'Quảng cáo / Đối ngoại / Truyền Thông': 'Marketing/Advertising/Communications',\n",
    "    'Thực phẩm & Đồ uống': 'Food & Beverage',\n",
    "    'Tiếp thị trực tuyến': 'Marketing/Advertising/Communications',\n",
    "    'CNTT - Phần mềm': 'Information Technology',\n",
    "    'Phi chính phủ / Phi lợi nhuận': 'Governmental/Nonprofit',\n",
    "    'Nhà hàng / Khách sạn': 'Hospitality - Hotels/Tourism',\n",
    "    'Mỹ thuật / Nghệ thuật / Thiết kế': 'Design',\n",
    "    'Kiến trúc': 'Architecture/Construction',\n",
    "    'Công nghệ sinh học': 'Engineering',\n",
    "    'CNTT - Phần cứng / Mạng': 'Information Technology',\n",
    "    'Xuất nhập khẩu': 'Logistics',\n",
    "    'Công nghệ thực phẩm / Dinh dưỡng': 'Engineering',\n",
    "    'Cơ khí / Ô tô / Tự động hóa': 'Engineering',\n",
    "    'Điện / Điện tử / Điện lạnh': 'Engineering',\n",
    "    'Xây dựng': 'Architecture/Construction',\n",
    "    'Hóa học': 'Engineering',\n",
    "    'Thu mua / Vật tư': 'Business',\n",
    "    'Luật / Pháp lý': 'Legal',\n",
    "    'Thủy sản / Hải sản': 'Agriculture/Forestry/Fisheries',\n",
    "    'In ấn / Xuất bản': 'Arts/Media/Printing/Publishing',\n",
    "    'Lâm Nghiệp': 'Agriculture/Forestry/Fisheries',\n",
    "\n",
    "    \n",
    "    'Biên phiên dịch': 'Others',\n",
    "    'Quản lý chất lượng (QA/QC)': 'Others',\n",
    "    'Ngành khác': 'Others',\n",
    "    'Tư vấn': 'Others',\n",
    "    'Lao động phổ thông': 'Others',\n",
    "    'Trắc địa / Địa Chất': 'Others',\n",
    "    'Mới tốt nghiệp / Thực tập': 'Others',\n",
    "    'Đồ gỗ': 'Others',\n",
    "    'Nội ngoại thất': 'Others',\n",
    "    'Giải trí': 'Others',\n",
    "    'Hàng gia dụng / Chăm sóc cá nhân': 'Others',\n",
    "    'An toàn lao động': 'Others',\n",
    "    'Hàng không': 'Others',\n",
    "    'Tổ chức sự kiện': 'Others',\n",
    "    'Môi trường': 'Others',\n",
    "    'Bưu chính viễn thông': 'Others',\n",
    "    'Bảo trì / Sửa chữa': 'Others',\n",
    "    'Chăn nuôi / Thú y': 'Others',\n",
    "    'Thư viện': 'Others',\n",
    "    'Thống kê': 'Others',\n",
    "    'Dầu khí': 'Others',\n",
    "    'Hàng hải': 'Others',\n",
    "    'An Ninh / Bảo Vệ': 'Others',\n",
    "    'Khoáng sản': 'Others',\n",
    "    'Thủy lợi': 'Others'\n",
    "}\n",
    "\n",
    "new_df['en_fields'] = new_df['fields'].apply(lambda x: [translation_mapping[field] for field in x])\n",
    "\n",
    "new_df.head(5)"
   ]
  },
  {
   "cell_type": "code",
   "execution_count": 28,
   "metadata": {},
   "outputs": [
    {
     "name": "stderr",
     "output_type": "stream",
     "text": [
      "/tmp/ipykernel_201468/1860704553.py:1: SettingWithCopyWarning: \n",
      "A value is trying to be set on a copy of a slice from a DataFrame.\n",
      "Try using .loc[row_indexer,col_indexer] = value instead\n",
      "\n",
      "See the caveats in the documentation: https://pandas.pydata.org/pandas-docs/stable/user_guide/indexing.html#returning-a-view-versus-a-copy\n",
      "  new_df['job_site'] = 'CareerViet'\n"
     ]
    }
   ],
   "source": [
    "new_df['job_site'] = 'CareerViet'"
   ]
  },
  {
   "cell_type": "markdown",
   "metadata": {},
   "source": [
    "See unique values"
   ]
  },
  {
   "cell_type": "code",
   "execution_count": 29,
   "metadata": {},
   "outputs": [
    {
     "name": "stderr",
     "output_type": "stream",
     "text": [
      "/tmp/ipykernel_201468/4261352234.py:2: FutureWarning: unique with argument that is not not a Series, Index, ExtensionArray, or np.ndarray is deprecated and will raise in a future version.\n",
      "  unique_fields = pd.unique(flat_fields)\n"
     ]
    },
    {
     "data": {
      "text/plain": [
       "array(['Logistics', 'Human Resources', 'Manufacturing',\n",
       "       'Customer Service', 'Arts/Media/Printing/Publishing', 'Others',\n",
       "       'Engineering', 'Information Technology',\n",
       "       'Architecture/Construction', 'Real Estate',\n",
       "       'Marketing/Advertising/Communications', 'Retail/Consumer',\n",
       "       'Education', 'Banking/Finance', 'Business', 'Food & Beverage',\n",
       "       'Hospitality - Hotels/Tourism', 'Design', 'Office Administration',\n",
       "       'Accounting/Auditing', 'Pharmaceuticals', 'Healthcare', 'Textiles',\n",
       "       'Legal', 'Insurance', 'Agriculture/Forestry/Fisheries',\n",
       "       'Governmental/Nonprofit'], dtype=object)"
      ]
     },
     "execution_count": 29,
     "metadata": {},
     "output_type": "execute_result"
    }
   ],
   "source": [
    "flat_fields = [item for sublist in new_df['en_fields'] for item in sublist]\n",
    "unique_fields = pd.unique(flat_fields)\n",
    "unique_fields"
   ]
  },
  {
   "cell_type": "markdown",
   "metadata": {},
   "source": [
    "Seem OK, let's write file"
   ]
  },
  {
   "cell_type": "markdown",
   "metadata": {},
   "source": [
    "## Write to file"
   ]
  },
  {
   "cell_type": "code",
   "execution_count": 31,
   "metadata": {},
   "outputs": [
    {
     "name": "stdout",
     "output_type": "stream",
     "text": [
      "Defaulting to user installation because normal site-packages is not writeable\n",
      "Collecting simplejson\n",
      "  Downloading simplejson-3.19.3-cp310-cp310-manylinux_2_5_x86_64.manylinux1_x86_64.manylinux_2_17_x86_64.manylinux2014_x86_64.whl.metadata (3.2 kB)\n",
      "Downloading simplejson-3.19.3-cp310-cp310-manylinux_2_5_x86_64.manylinux1_x86_64.manylinux_2_17_x86_64.manylinux2014_x86_64.whl (137 kB)\n",
      "\u001b[2K   \u001b[38;2;114;156;31m━━━━━━━━━━━━━━━━━━━━━━━━━━━━━━━━━━━━━━━━\u001b[0m \u001b[32m137.9/137.9 kB\u001b[0m \u001b[31m1.4 MB/s\u001b[0m eta \u001b[36m0:00:00\u001b[0m31m1.5 MB/s\u001b[0m eta \u001b[36m0:00:01\u001b[0m\n",
      "\u001b[?25hInstalling collected packages: simplejson\n",
      "Successfully installed simplejson-3.19.3\n",
      "\n",
      "\u001b[1m[\u001b[0m\u001b[34;49mnotice\u001b[0m\u001b[1;39;49m]\u001b[0m\u001b[39;49m A new release of pip is available: \u001b[0m\u001b[31;49m24.0\u001b[0m\u001b[39;49m -> \u001b[0m\u001b[32;49m24.3.1\u001b[0m\n",
      "\u001b[1m[\u001b[0m\u001b[34;49mnotice\u001b[0m\u001b[1;39;49m]\u001b[0m\u001b[39;49m To update, run: \u001b[0m\u001b[32;49mpython3.10 -m pip install --upgrade pip\u001b[0m\n"
     ]
    }
   ],
   "source": [
    "!pip install simplejson"
   ]
  },
  {
   "cell_type": "code",
   "execution_count": 32,
   "metadata": {},
   "outputs": [],
   "source": [
    "import simplejson\n",
    "result = new_df.to_dict('records')\n",
    "output_file_path = 'careerviet.json'\n",
    "with open(output_file_path, 'w', encoding='utf-8') as f:\n",
    "    simplejson.dump(result, f, ignore_nan=True, indent=4, ensure_ascii=False)"
   ]
  },
  {
   "cell_type": "markdown",
   "metadata": {},
   "source": [
    "---"
   ]
  }
 ],
 "metadata": {
  "kernelspec": {
   "display_name": "Python 3",
   "language": "python",
   "name": "python3"
  },
  "language_info": {
   "codemirror_mode": {
    "name": "ipython",
    "version": 3
   },
   "file_extension": ".py",
   "mimetype": "text/x-python",
   "name": "python",
   "nbconvert_exporter": "python",
   "pygments_lexer": "ipython3",
   "version": "3.10.12"
  }
 },
 "nbformat": 4,
 "nbformat_minor": 2
}
